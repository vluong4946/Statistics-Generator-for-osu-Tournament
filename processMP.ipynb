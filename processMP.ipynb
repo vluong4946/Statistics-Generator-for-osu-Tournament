{
 "cells": [
  {
   "cell_type": "code",
   "execution_count": 45,
   "metadata": {},
   "outputs": [],
   "source": [
    "#data science stuff\n",
    "import numpy as np\n",
    "import pandas as pd\n",
    "import configparser\n",
    "config = configparser.ConfigParser()\n",
    "config.read('config.INI')\n",
    "\n",
    "import matplotlib.pyplot as plt\n",
    "%matplotlib inline\n",
    "plt.style.use('fivethirtyeight')\n",
    "\n",
    "#requests\n",
    "import requests"
   ]
  },
  {
   "cell_type": "markdown",
   "metadata": {},
   "source": [
    "Sources of help:\n"
   ]
  },
  {
   "cell_type": "code",
   "execution_count": 1,
   "metadata": {},
   "outputs": [],
   "source": [
    "# Function: processMP\n",
    "# Processes the match corresponding to the mp_id passed in, and updates the\n",
    "# stage leaderboards and the map count params passed in. \n",
    "# params: map_id - the id of the match we wish to process\n",
    "#         leaderboards_in_stage - leaderboards that will be updated\n",
    "#         map_counts_in_stage - dict of the times each map in the stage was played\n",
    "# return: void\n",
    "def processMP(mp_id, leaderboards_in_stage, map_counts_in_stage, is_team_tourney, teams, scoring_type):\n",
    "    api_key = config.get('osu_api', 'api_key')\n",
    "    url = config.get('osu_api', 'get_match_url')\n",
    "    params = {\n",
    "        'k': api_key,\n",
    "        'mp': mp_id\n",
    "    }\n",
    "    response = requests.get(url, params).json()\n",
    "    games = response['games']\n",
    "    for i in np.arange(len(games)):\n",
    "        #error checking\n",
    "        #wrong scoring type\n",
    "        if games[i]['scoring_type'] != scoring_type:\n",
    "            continue\n",
    "        #no scores were recorded\n",
    "        elif len(games[i]['scores']) == 0:\n",
    "            continue\n",
    "        #map played isn't in the pool of the current stage\n",
    "        elif games[i]['beatmap_id'] not in map_counts_in_stage:\n",
    "            continue\n",
    "        \n",
    "        #Update map_counts_in_stage\n",
    "        map_counts_in_stage[games[i]['beatmap_id']] += 1\n",
    "        \n",
    "        \n",
    "    #leaderboards_in_stage[MAP_ID]['scores']\n",
    "    \n",
    "    return response\n",
    "\n",
    "    "
   ]
  },
  {
   "cell_type": "code",
   "execution_count": null,
   "metadata": {},
   "outputs": [],
   "source": []
  }
 ],
 "metadata": {
  "kernelspec": {
   "display_name": "Python 3",
   "language": "python",
   "name": "python3"
  },
  "language_info": {
   "codemirror_mode": {
    "name": "ipython",
    "version": 3
   },
   "file_extension": ".py",
   "mimetype": "text/x-python",
   "name": "python",
   "nbconvert_exporter": "python",
   "pygments_lexer": "ipython3",
   "version": "3.7.1"
  }
 },
 "nbformat": 4,
 "nbformat_minor": 2
}
