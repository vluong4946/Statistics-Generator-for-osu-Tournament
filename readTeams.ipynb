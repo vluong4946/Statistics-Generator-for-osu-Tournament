{
 "cells": [
  {
   "cell_type": "code",
   "execution_count": 2,
   "metadata": {},
   "outputs": [
    {
     "name": "stdout",
     "output_type": "stream",
     "text": [
      "google sheets authentication success\n"
     ]
    }
   ],
   "source": [
    "#data science stuff\n",
    "import numpy as np\n",
    "import pandas as pd\n",
    "\n",
    "#requests\n",
    "import requests\n",
    "%run sheetsAPI.ipynb"
   ]
  },
  {
   "cell_type": "code",
   "execution_count": 10,
   "metadata": {},
   "outputs": [],
   "source": [
    "# Function: readTeams\n",
    "# Read in sheet of teams, replace nulls with 0s\n",
    "# params: filepath - str of the path to the sheet of teams\n",
    "# return: a df of teams\n",
    "def readTeams(sheetId):\n",
    "    range_ = 'Teams!A1:Z1000'\n",
    "    \n",
    "    request = service.spreadsheets().values().get(spreadsheetId=sheetId, range=range_)\n",
    "    response = request.execute()\n",
    "    df = pd.DataFrame(response['values'],columns=response['values'][0])\n",
    "    df = df.drop(0).fillna('0').astype(str)\n",
    "\n",
    "    return df\n",
    "    \n",
    "#readTeams('1gVciF9TJgKU81vxTeOBLL-FRjGabeeZWNWvIUnqY3Zk')"
   ]
  },
  {
   "cell_type": "code",
   "execution_count": 4,
   "metadata": {},
   "outputs": [],
   "source": [
    "#readTeams('./Starter Sheets/Teams.xlsx')"
   ]
  },
  {
   "cell_type": "code",
   "execution_count": 72,
   "metadata": {},
   "outputs": [
    {
     "data": {
      "text/plain": [
       "'Kyroh'"
      ]
     },
     "execution_count": 72,
     "metadata": {},
     "output_type": "execute_result"
    }
   ],
   "source": [
    "\"\"\"teams = pd.read_excel(filepath, 'Sheet1')\n",
    "teams = teams.fillna('0')\n",
    "teams = teams.astype(str)\n",
    "return teams\"\"\""
   ]
  },
  {
   "cell_type": "code",
   "execution_count": null,
   "metadata": {},
   "outputs": [],
   "source": [
    "#get the team name corresponding to the player entered\n",
    "def getTeam(teams, username):\n",
    "    #if (teams == 0):\n",
    "    #    return -1\n",
    "    max_players_per_team = len(teams.columns) - 1\n",
    "    team_row = []\n",
    "    team_name = \"\"\n",
    "    #Search for the player in the Player1 to PlayerX columns\n",
    "    for i in np.arange(max_players_per_team):\n",
    "        team_row = teams.loc[\n",
    "            teams['Player' + str(i+1)].str.contains(username, case=False)\n",
    "        ]\n",
    "        #found the player\n",
    "        if len(team_row.index) == 1:\n",
    "            team_row = team_row.reset_index(drop=True)\n",
    "            team_name = team_row['Team'][0]\n",
    "            break\n",
    "    return team_name"
   ]
  },
  {
   "cell_type": "code",
   "execution_count": null,
   "metadata": {},
   "outputs": [],
   "source": []
  },
  {
   "cell_type": "code",
   "execution_count": null,
   "metadata": {},
   "outputs": [],
   "source": []
  }
 ],
 "metadata": {
  "kernelspec": {
   "display_name": "Python 3",
   "language": "python",
   "name": "python3"
  },
  "language_info": {
   "codemirror_mode": {
    "name": "ipython",
    "version": 3
   },
   "file_extension": ".py",
   "mimetype": "text/x-python",
   "name": "python",
   "nbconvert_exporter": "python",
   "pygments_lexer": "ipython3",
   "version": "3.7.1"
  }
 },
 "nbformat": 4,
 "nbformat_minor": 2
}
