{
 "cells": [
  {
   "cell_type": "code",
   "execution_count": 2,
   "metadata": {},
   "outputs": [
    {
     "name": "stdout",
     "output_type": "stream",
     "text": [
      "google sheets authentication success\n"
     ]
    }
   ],
   "source": [
    "#data science stuff\n",
    "import numpy as np\n",
    "import pandas as pd\n",
    "\n",
    "#requests\n",
    "import requests\n",
    "%run sheetsAPI.ipynb"
   ]
  },
  {
   "cell_type": "code",
   "execution_count": 6,
   "metadata": {},
   "outputs": [],
   "source": [
    "#return a df of map to ban count\n",
    "def readBans(stage, sheetId):\n",
    "    range_ = stage + '!B:C'\n",
    "    \n",
    "    request = service.spreadsheets().values().get(spreadsheetId=sheetId, range=range_)\n",
    "    response = request.execute()\n",
    "    df = pd.DataFrame(response['values'],columns=response['values'][0])\n",
    "    df = df.drop(0)\n",
    "\n",
    "    return df\n",
    "\n",
    "#readBans('Group Stage', '1yQUJyhCmd_SVGPopF6J0iLvS6YOOifosuxPNJz_GUrw')"
   ]
  },
  {
   "cell_type": "code",
   "execution_count": null,
   "metadata": {},
   "outputs": [],
   "source": []
  }
 ],
 "metadata": {
  "kernelspec": {
   "display_name": "Python 3",
   "language": "python",
   "name": "python3"
  },
  "language_info": {
   "codemirror_mode": {
    "name": "ipython",
    "version": 3
   },
   "file_extension": ".py",
   "mimetype": "text/x-python",
   "name": "python",
   "nbconvert_exporter": "python",
   "pygments_lexer": "ipython3",
   "version": "3.7.1"
  }
 },
 "nbformat": 4,
 "nbformat_minor": 2
}
