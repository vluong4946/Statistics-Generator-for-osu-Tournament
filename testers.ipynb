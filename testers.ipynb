{
 "cells": [
  {
   "cell_type": "code",
   "execution_count": 249,
   "metadata": {},
   "outputs": [
    {
     "name": "stdout",
     "output_type": "stream",
     "text": [
      "dab\n"
     ]
    }
   ],
   "source": [
    "#data science stuff\n",
    "import numpy as np\n",
    "import pandas as pd\n",
    "import configparser\n",
    "config = configparser.ConfigParser()\n",
    "config.read('config.INI')\n",
    "\n",
    "import matplotlib.pyplot as plt\n",
    "%matplotlib inline\n",
    "plt.style.use('fivethirtyeight')\n",
    "\n",
    "%run readTeams.ipynb\n",
    "%run readMaps.ipynb\n",
    "%run osuApiRequests.ipynb\n",
    "%run processMP.ipynb\n",
    "%run createLeaderboard.ipynb\n",
    "\n",
    "#requests\n",
    "import requests\n",
    "print(\"dab\")"
   ]
  },
  {
   "cell_type": "markdown",
   "metadata": {},
   "source": [
    "Sources of help:\n"
   ]
  },
  {
   "cell_type": "markdown",
   "metadata": {},
   "source": [
    "https://stackoverflow.com/questions/509211/understanding-pythons-slice-notation\n",
    "https://pandas.pydata.org/pandas-docs/stable/indexing.html\n",
    "https://stackoverflow.com/questions/21468194/how-to-remove-all-matches-in-a-python-list\n",
    "https://stackoverflow.com/questions/209840/convert-two-lists-into-a-dictionary-in-python\n",
    "https://stackoverflow.com/questions/6612769/is-there-a-more-elegant-way-for-unpacking-keys-and-values-of-a-dictionary-into-t"
   ]
  },
  {
   "cell_type": "code",
   "execution_count": 71,
   "metadata": {},
   "outputs": [
    {
     "name": "stdout",
     "output_type": "stream",
     "text": [
      "['30485', '42273', '124701', '65019', '73514', '119803', '54231', '38581', '3671', '27849', '1562', '34077', '113592', '0', '0', '0', '0', '0', '0', '0', '0', '0']\n",
      "   Group Stage  Type\n",
      "0        30485     0\n",
      "1        42273     0\n",
      "2       124701     0\n",
      "3        65019     0\n",
      "4        73514     8\n",
      "5       119803     8\n",
      "6        54231    16\n",
      "7        38581    16\n",
      "8         3671    64\n",
      "9        27849    64\n",
      "10        1562     2\n",
      "11       34077  1024\n",
      "12      113592     0\n",
      "13           0     0\n",
      "14           0     0\n",
      "15           0     0\n",
      "16           0     0\n",
      "17           0     0\n",
      "18           0     0\n",
      "19           0     0\n",
      "20           0     0\n",
      "21           0     0\n",
      "['30485', '42273', '124701', '65019', '73514', '119803', '54231', '38581', '3671', '27849', '1562', '34077', '113592', '0', '0', '0', '0', '0', '0', '0', '0', '0']\n",
      "      RO32 Type.1\n",
      "0    78049      0\n",
      "1    18899      0\n",
      "2    78239      0\n",
      "3    93086      0\n",
      "4   120461      0\n",
      "5    47930      0\n",
      "6   102016      8\n",
      "7    36994      8\n",
      "8   121216     16\n",
      "9    30321     16\n",
      "10   47913     64\n",
      "11  107035     64\n",
      "12   21329      2\n",
      "13    7879      2\n",
      "14   15358   1024\n",
      "15   17390   1024\n",
      "16   72190      0\n",
      "17       0      0\n",
      "18       0      0\n",
      "19       0      0\n",
      "20       0      0\n",
      "21       0      0\n",
      "['78049', '18899', '78239', '93086', '120461', '47930', '102016', '36994', '121216', '30321', '47913', '107035', '21329', '7879', '15358', '17390', '72190', '0', '0', '0', '0', '0']\n"
     ]
    }
   ],
   "source": [
    "map_ids = readMaps('./Starter Sheets/Maps2.xlsx') \n",
    "labels = list(map_ids)\n",
    "stages = labels[0::2]\n",
    "print(map_ids.iloc[:, 0].tolist())\n",
    "\n",
    "for i in np.arange(0, len(labels), 2):\n",
    "    map_mods = map_ids.iloc[:, i:i+2] #df.loc[row_indexer,column_indexer]\n",
    "    print(map_mods)\n",
    "    print(map_mods.iloc[:, 0].tolist())\n",
    "\n",
    "#for i in np.arange(2):\n",
    "    #map_mods = map_ids[0:2]\n",
    "    #print(map_mods)\n",
    "    #del map_ids[0:2]\n",
    "    \n"
   ]
  },
  {
   "cell_type": "code",
   "execution_count": 119,
   "metadata": {},
   "outputs": [
    {
     "data": {
      "text/plain": [
       "'1024'"
      ]
     },
     "execution_count": 119,
     "metadata": {},
     "output_type": "execute_result"
    }
   ],
   "source": [
    "#useless\n",
    "map_ids = readMaps('./Starter Sheets/Maps2.xlsx') \n",
    "labels = list(map_ids)\n",
    "stages = labels[0::2]\n",
    "stage_idx = 0\n",
    "\n",
    "map_played = '34077'\n",
    "map_ids_in_stage = map_ids.iloc[:, stage_idx:stage_idx+2]\n",
    "map_ids_in_stage.loc[\n",
    "    map_ids_in_stage.iloc[:, 0].str.contains(map_played, case=False)\n",
    "].iloc[:, 1].reset_index(drop=True)[0]"
   ]
  },
  {
   "cell_type": "code",
   "execution_count": 130,
   "metadata": {},
   "outputs": [
    {
     "name": "stdout",
     "output_type": "stream",
     "text": [
      "['0', '0', '0', '0', '8', '8', '16', '16', '64', '64', '2', '1024', '0']\n",
      "['30485', '42273', '124701', '65019', '73514', '119803', '54231', '38581', '3671', '27849', '1562', '34077', '113592']\n",
      "{'30485': '0', '42273': '0', '124701': '0', '65019': '0', '73514': '8', '119803': '8', '54231': '16', '38581': '16', '3671': '64', '27849': '64', '1562': '2', '34077': '1024', '113592': '0'}\n"
     ]
    }
   ],
   "source": [
    "#getting the mods column of all_maps\n",
    "all_maps = readMaps('./Starter Sheets/Maps2.xlsx') \n",
    "labels = list(map_ids)\n",
    "stages = labels[0::2]\n",
    "stage_idx = 0\n",
    "\n",
    "maps_in_stage_df = all_maps.iloc[:, stage_idx:stage_idx+2]\n",
    "mods = maps_in_stage_df.iloc[:, 1].tolist() \n",
    "mods = [mod for mod in mods if mod != '-1']\n",
    "print(mods)\n",
    "\n",
    "map_ids_in_stage = maps_in_stage_df.iloc[:, 0].tolist()\n",
    "map_ids_in_stage = [map_id for map_id in map_ids_in_stage if map_id != '-1']\n",
    "print(map_ids_in_stage)\n",
    "\n",
    "mod_for_each_map = dict(zip(map_ids_in_stage, mods))\n",
    "print(mod_for_each_map)"
   ]
  },
  {
   "cell_type": "code",
   "execution_count": 121,
   "metadata": {},
   "outputs": [
    {
     "name": "stdout",
     "output_type": "stream",
     "text": [
      "166781\n",
      "89.26\n",
      "Passed!\n",
      "----------------------\n",
      "308912\n",
      "95.67\n",
      "Passed!\n",
      "----------------------\n"
     ]
    }
   ],
   "source": [
    "def testCalculateAcc():\n",
    "    #normal case\n",
    "    response = get_match('45234409')\n",
    "    map_idx = 0\n",
    "    player_idx = 0\n",
    "    print(response['games'][map_idx]['scores'][player_idx]['score'])\n",
    "    ret = calculateAcc(response['games'][map_idx]['scores'][player_idx])\n",
    "    print(ret)\n",
    "    print(\"Passed!\" if ret == 89.26 else \"Failed!\")\n",
    "    print(\"----------------------\")\n",
    "    \n",
    "    #unfinished map case\n",
    "    response = get_match('46157348')\n",
    "    map_idx = 7\n",
    "    player_idx = 2\n",
    "    print(response['games'][map_idx]['scores'][player_idx]['score'])\n",
    "    ret = calculateAcc(response['games'][map_idx]['scores'][player_idx])\n",
    "    print(ret)\n",
    "    print(\"Passed!\" if ret == 95.67 else \"Failed!\")\n",
    "    print(\"----------------------\")\n",
    "    \n",
    "testCalculateAcc()"
   ]
  },
  {
   "cell_type": "code",
   "execution_count": 4,
   "metadata": {
    "scrolled": true
   },
   "outputs": [
    {
     "name": "stdout",
     "output_type": "stream",
     "text": [
      "349727\n",
      "B (U)\n",
      "Passed!\n",
      "----------------------\n",
      "166781\n",
      "F\n",
      "Passed!\n",
      "----------------------\n",
      "199369\n",
      "A (U)\n",
      "Passed!\n",
      "----------------------\n",
      "495638\n",
      "S\n",
      "Passed!\n",
      "----------------------\n"
     ]
    }
   ],
   "source": [
    "#testing calculateRank\n",
    "def testCalculateRank():\n",
    "    #nonfailing grade (U)\n",
    "    response = get_match('46870344')\n",
    "    map_idx = 3\n",
    "    player_idx = 3\n",
    "    print(response['games'][map_idx]['scores'][player_idx]['score'])\n",
    "    ret = calculateRank(response['games'][map_idx]['scores'][player_idx], '52788')\n",
    "    print(ret)\n",
    "    print(\"Passed!\" if ret == \"B (U)\" else \"Failed!\")\n",
    "    print(\"----------------------\")\n",
    "    \n",
    "    #failing grade\n",
    "    response = get_match('45234409')\n",
    "    map_idx = 0\n",
    "    player_idx = 0\n",
    "    print(response['games'][map_idx]['scores'][player_idx]['score'])\n",
    "    ret = calculateRank(response['games'][map_idx]['scores'][player_idx], '73514')\n",
    "    print(ret)\n",
    "    print(\"Passed!\" if ret == \"F\" else \"Failed!\")\n",
    "    print(\"----------------------\")\n",
    "    \n",
    "    #nonfailing grade (U)\n",
    "    response = get_match('46157348')\n",
    "    map_idx = 7\n",
    "    player_idx = 3\n",
    "    print(response['games'][map_idx]['scores'][player_idx]['score'])\n",
    "    ret = calculateRank(response['games'][map_idx]['scores'][player_idx], '24438')\n",
    "    print(ret)\n",
    "    print(\"Passed!\" if ret == \"A (U)\" else \"Failed!\")\n",
    "    print(\"----------------------\")\n",
    "    \n",
    "    #S grade\n",
    "    response = get_match('46157348')\n",
    "    map_idx = 5\n",
    "    player_idx = 3\n",
    "    print(response['games'][map_idx]['scores'][player_idx]['score'])\n",
    "    ret = calculateRank(response['games'][map_idx]['scores'][player_idx], '73494')\n",
    "    print(ret)\n",
    "    print(\"Passed!\" if ret == \"S\" else \"Failed!\")\n",
    "    print(\"----------------------\")\n",
    "    \n",
    "testCalculateRank()"
   ]
  },
  {
   "cell_type": "code",
   "execution_count": 146,
   "metadata": {},
   "outputs": [
    {
     "name": "stdout",
     "output_type": "stream",
     "text": [
      "{'apple': 'yum', 'orange': 'sweet', 'banana': 'NO'}\n"
     ]
    },
    {
     "data": {
      "text/plain": [
       "['yum', 'sweet', 'NO']"
      ]
     },
     "execution_count": 146,
     "metadata": {},
     "output_type": "execute_result"
    }
   ],
   "source": [
    "fruits = ['apple', 'orange', 'banana']\n",
    "opinion = ['yum', 'sweet', 'NO']\n",
    "zipped = dict(zip(fruits, opinion))\n",
    "print(zipped)\n",
    "list(zipped.values())"
   ]
  },
  {
   "cell_type": "code",
   "execution_count": 176,
   "metadata": {},
   "outputs": [
    {
     "data": {
      "text/html": [
       "<div>\n",
       "<style scoped>\n",
       "    .dataframe tbody tr th:only-of-type {\n",
       "        vertical-align: middle;\n",
       "    }\n",
       "\n",
       "    .dataframe tbody tr th {\n",
       "        vertical-align: top;\n",
       "    }\n",
       "\n",
       "    .dataframe thead th {\n",
       "        text-align: right;\n",
       "    }\n",
       "</style>\n",
       "<table border=\"1\" class=\"dataframe\">\n",
       "  <thead>\n",
       "    <tr style=\"text-align: right;\">\n",
       "      <th></th>\n",
       "      <th>A</th>\n",
       "      <th>B</th>\n",
       "    </tr>\n",
       "  </thead>\n",
       "  <tbody>\n",
       "    <tr>\n",
       "      <th>0</th>\n",
       "      <td>5</td>\n",
       "      <td>6</td>\n",
       "    </tr>\n",
       "  </tbody>\n",
       "</table>\n",
       "</div>"
      ],
      "text/plain": [
       "   A  B\n",
       "0  5  6"
      ]
     },
     "execution_count": 176,
     "metadata": {},
     "output_type": "execute_result"
    }
   ],
   "source": [
    "df = pd.DataFrame(columns=['A', 'B'])\n",
    "test_row = {'A': 5, 'B': 6}\n",
    "df = df.append(test_row, ignore_index = True)\n",
    "df\n"
   ]
  },
  {
   "cell_type": "code",
   "execution_count": 251,
   "metadata": {},
   "outputs": [
    {
     "name": "stdout",
     "output_type": "stream",
     "text": [
      "i: 0\n",
      "   j: 0\n",
      "sans undertale\n",
      "[{'#': 1, 'Player': 'sans undertale', 'Team': '', 'Rank': 'F', 'Score': '166781', 'Combo': '105', 'Accuracy': 89.26, 'Mods': '8', 'Match': 'https://osu.ppy.sh/community/matches/45234409'}]\n",
      "73514\n",
      "   j: 1\n",
      "Entropy\n",
      "[{'#': 2, 'Player': 'Entropy', 'Team': 'egagegsgaggagaha', 'Rank': 'B', 'Score': '257320', 'Combo': '234', 'Accuracy': 91.68, 'Mods': '8', 'Match': 'https://osu.ppy.sh/community/matches/45234409'}]\n",
      "73514\n",
      "   j: 2\n",
      "-Mo-\n",
      "[{'#': 3, 'Player': '-Mo-', 'Team': 'ErogeIsBest', 'Rank': 'S', 'Score': '1047169', 'Combo': '771', 'Accuracy': 99.63, 'Mods': '8', 'Match': 'https://osu.ppy.sh/community/matches/45234409'}]\n",
      "73514\n",
      "   j: 3\n",
      "Arf\n",
      "[{'#': 4, 'Player': 'Arf', 'Team': 'ErogeIsBest', 'Rank': 'SS', 'Score': '1062120', 'Combo': '771', 'Accuracy': 100.0, 'Mods': '8', 'Match': 'https://osu.ppy.sh/community/matches/45234409'}]\n",
      "73514\n",
      "i: 1\n",
      "     3rd err\n",
      "i: 2\n",
      "     3rd err\n",
      "i: 3\n",
      "     3rd err\n",
      "i: 4\n",
      "     3rd err\n"
     ]
    },
    {
     "data": {
      "text/html": [
       "<div>\n",
       "<style scoped>\n",
       "    .dataframe tbody tr th:only-of-type {\n",
       "        vertical-align: middle;\n",
       "    }\n",
       "\n",
       "    .dataframe tbody tr th {\n",
       "        vertical-align: top;\n",
       "    }\n",
       "\n",
       "    .dataframe thead th {\n",
       "        text-align: right;\n",
       "    }\n",
       "</style>\n",
       "<table border=\"1\" class=\"dataframe\">\n",
       "  <thead>\n",
       "    <tr style=\"text-align: right;\">\n",
       "      <th></th>\n",
       "      <th>#</th>\n",
       "      <th>Player</th>\n",
       "      <th>Team</th>\n",
       "      <th>Rank</th>\n",
       "      <th>Score</th>\n",
       "      <th>Combo</th>\n",
       "      <th>Accuracy</th>\n",
       "      <th>Mods</th>\n",
       "      <th>Match</th>\n",
       "    </tr>\n",
       "  </thead>\n",
       "  <tbody>\n",
       "    <tr>\n",
       "      <th>0</th>\n",
       "      <td>1</td>\n",
       "      <td>sans undertale</td>\n",
       "      <td></td>\n",
       "      <td>F</td>\n",
       "      <td>166781</td>\n",
       "      <td>105</td>\n",
       "      <td>89.26</td>\n",
       "      <td>8</td>\n",
       "      <td>https://osu.ppy.sh/community/matches/45234409</td>\n",
       "    </tr>\n",
       "    <tr>\n",
       "      <th>1</th>\n",
       "      <td>2</td>\n",
       "      <td>Entropy</td>\n",
       "      <td>egagegsgaggagaha</td>\n",
       "      <td>B</td>\n",
       "      <td>257320</td>\n",
       "      <td>234</td>\n",
       "      <td>91.68</td>\n",
       "      <td>8</td>\n",
       "      <td>https://osu.ppy.sh/community/matches/45234409</td>\n",
       "    </tr>\n",
       "    <tr>\n",
       "      <th>2</th>\n",
       "      <td>3</td>\n",
       "      <td>-Mo-</td>\n",
       "      <td>ErogeIsBest</td>\n",
       "      <td>S</td>\n",
       "      <td>1047169</td>\n",
       "      <td>771</td>\n",
       "      <td>99.63</td>\n",
       "      <td>8</td>\n",
       "      <td>https://osu.ppy.sh/community/matches/45234409</td>\n",
       "    </tr>\n",
       "    <tr>\n",
       "      <th>3</th>\n",
       "      <td>4</td>\n",
       "      <td>Arf</td>\n",
       "      <td>ErogeIsBest</td>\n",
       "      <td>SS</td>\n",
       "      <td>1062120</td>\n",
       "      <td>771</td>\n",
       "      <td>100.00</td>\n",
       "      <td>8</td>\n",
       "      <td>https://osu.ppy.sh/community/matches/45234409</td>\n",
       "    </tr>\n",
       "  </tbody>\n",
       "</table>\n",
       "</div>"
      ],
      "text/plain": [
       "   #          Player              Team Rank    Score Combo  Accuracy Mods  \\\n",
       "0  1  sans undertale                      F   166781   105     89.26    8   \n",
       "1  2         Entropy  egagegsgaggagaha    B   257320   234     91.68    8   \n",
       "2  3            -Mo-       ErogeIsBest    S  1047169   771     99.63    8   \n",
       "3  4             Arf       ErogeIsBest   SS  1062120   771    100.00    8   \n",
       "\n",
       "                                           Match  \n",
       "0  https://osu.ppy.sh/community/matches/45234409  \n",
       "1  https://osu.ppy.sh/community/matches/45234409  \n",
       "2  https://osu.ppy.sh/community/matches/45234409  \n",
       "3  https://osu.ppy.sh/community/matches/45234409  "
      ]
     },
     "execution_count": 251,
     "metadata": {},
     "output_type": "execute_result"
    }
   ],
   "source": [
    "mp_id = '45234409'\n",
    "\n",
    "test_map_id = '73514'\n",
    "leaderboards_in_stage = {}\n",
    "leaderboards_in_stage[test_map_id] = createLeaderboard(test_map_id, True)\n",
    "#good\n",
    "\n",
    "is_team_tourney = True\n",
    "\n",
    "map_counts_in_stage = {}\n",
    "map_counts_in_stage[test_map_id] = 0\n",
    "\n",
    "teams = readTeams('./Starter Sheets/Teams.xlsx')\n",
    "\n",
    "desired_scoring_type = '3'\n",
    "\n",
    "mods_for_each_map = {}\n",
    "mods_for_each_map[test_map_id] = '8'\n",
    "\n",
    "processMP(mp_id, leaderboards_in_stage, map_counts_in_stage, \n",
    "                  is_team_tourney, teams, desired_scoring_type, \n",
    "                  mods_for_each_map)  \n",
    "leaderboards_in_stage[test_map_id]['scores']"
   ]
  },
  {
   "cell_type": "code",
   "execution_count": 243,
   "metadata": {},
   "outputs": [
    {
     "name": "stdout",
     "output_type": "stream",
     "text": [
      "Empty DataFrame\n",
      "Columns: [#, Player, Team, Rank, Score, Combo, Accuracy, Mods, Match]\n",
      "Index: []\n"
     ]
    },
    {
     "data": {
      "text/html": [
       "<div>\n",
       "<style scoped>\n",
       "    .dataframe tbody tr th:only-of-type {\n",
       "        vertical-align: middle;\n",
       "    }\n",
       "\n",
       "    .dataframe tbody tr th {\n",
       "        vertical-align: top;\n",
       "    }\n",
       "\n",
       "    .dataframe thead th {\n",
       "        text-align: right;\n",
       "    }\n",
       "</style>\n",
       "<table border=\"1\" class=\"dataframe\">\n",
       "  <thead>\n",
       "    <tr style=\"text-align: right;\">\n",
       "      <th></th>\n",
       "      <th>#</th>\n",
       "      <th>Player</th>\n",
       "      <th>Team</th>\n",
       "      <th>Rank</th>\n",
       "      <th>Score</th>\n",
       "      <th>Combo</th>\n",
       "      <th>Accuracy</th>\n",
       "      <th>Mods</th>\n",
       "      <th>Match</th>\n",
       "    </tr>\n",
       "  </thead>\n",
       "  <tbody>\n",
       "    <tr>\n",
       "      <th>0</th>\n",
       "      <td>0</td>\n",
       "      <td>REEE</td>\n",
       "      <td>NaN</td>\n",
       "      <td>A</td>\n",
       "      <td>111555</td>\n",
       "      <td>111</td>\n",
       "      <td>99.45</td>\n",
       "      <td>8</td>\n",
       "      <td>FUCK</td>\n",
       "    </tr>\n",
       "  </tbody>\n",
       "</table>\n",
       "</div>"
      ],
      "text/plain": [
       "   # Player  Team Rank   Score Combo  Accuracy Mods Match\n",
       "0  0   REEE   NaN    A  111555   111     99.45    8  FUCK"
      ]
     },
     "execution_count": 243,
     "metadata": {},
     "output_type": "execute_result"
    }
   ],
   "source": [
    "test_map_id = '73514'\n",
    "leaderboards_in_stage = {}\n",
    "leaderboards_in_stage[test_map_id] = createLeaderboard(test_map_id, True)\n",
    "print(leaderboards_in_stage[test_map_id]['scores'])\n",
    "\n",
    "test_row = {\n",
    "    '#': 0,\n",
    "    'Player': 'REEE',\n",
    "    'Rank': 'A',\n",
    "    'Score': '111555',\n",
    "    'Combo': '111',\n",
    "    'Accuracy': 99.45,\n",
    "    'Mods': '8',\n",
    "    'Match': 'FUCK'\n",
    "}\n",
    "leaderboards_in_stage[test_map_id]['scores'] = leaderboards_in_stage[test_map_id]['scores'].append(test_row, ignore_index = True)\n",
    "\n",
    "leaderboards_in_stage[test_map_id]['scores']"
   ]
  },
  {
   "cell_type": "code",
   "execution_count": null,
   "metadata": {},
   "outputs": [],
   "source": [
    "#create the sheet containing all the leaderboards for stage\n",
    "path = stage + '.xlsx'\n",
    "writer = pd.ExcelWriter(path, engine = 'xlsxwriter')\n",
    "for map_id in leaderboards_in_stage:\n",
    "    leaderboards_in_stage[map_id]['scores'].to_excel(writer, sheet_name = map_id)\n",
    "    \n",
    "writer.save()\n",
    "writer.close()"
   ]
  }
 ],
 "metadata": {
  "kernelspec": {
   "display_name": "Python 3",
   "language": "python",
   "name": "python3"
  },
  "language_info": {
   "codemirror_mode": {
    "name": "ipython",
    "version": 3
   },
   "file_extension": ".py",
   "mimetype": "text/x-python",
   "name": "python",
   "nbconvert_exporter": "python",
   "pygments_lexer": "ipython3",
   "version": "3.7.1"
  }
 },
 "nbformat": 4,
 "nbformat_minor": 2
}
