{
 "cells": [
  {
   "cell_type": "code",
   "execution_count": 2,
   "metadata": {},
   "outputs": [
    {
     "name": "stdout",
     "output_type": "stream",
     "text": [
      "dab\n"
     ]
    }
   ],
   "source": [
    "from __future__ import print_function\n",
    "from googleapiclient.discovery import build\n",
    "from httplib2 import Http\n",
    "from oauth2client import file, client, tools\n",
    "\n",
    "url = oauth2Client.generateAuthUrl({\n",
    "    access_type:     'offline',\n",
    "    approval_prompt: 'force',\n",
    "    scope: [\n",
    "      'https://www.googleapis.com/auth/analytics.readonly',\n",
    "      'https://www.googleapis.com/auth/drive',\n",
    "      'https://www.googleapis.com/auth/spreadsheets'\n",
    "    ]\n",
    "});\n",
    "global.googleapis = { expiry_date: 0 };\n",
    "google.options({ auth: oauth2Client });\n",
    "var sheets    = google.sheets('v4');\n",
    "sheets.spreadsheets.get({ spreadsheetId: 'id'}, function(err, data) {\n",
    "    res.send(err, data);\n",
    "});"
   ]
  },
  {
   "cell_type": "code",
   "execution_count": null,
   "metadata": {},
   "outputs": [],
   "source": []
  }
 ],
 "metadata": {
  "kernelspec": {
   "display_name": "Python 3",
   "language": "python",
   "name": "python3"
  },
  "language_info": {
   "codemirror_mode": {
    "name": "ipython",
    "version": 3
   },
   "file_extension": ".py",
   "mimetype": "text/x-python",
   "name": "python",
   "nbconvert_exporter": "python",
   "pygments_lexer": "ipython3",
   "version": "3.7.1"
  }
 },
 "nbformat": 4,
 "nbformat_minor": 2
}
