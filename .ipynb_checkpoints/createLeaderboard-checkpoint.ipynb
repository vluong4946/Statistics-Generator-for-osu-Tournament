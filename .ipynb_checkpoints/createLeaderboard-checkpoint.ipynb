{
 "cells": [
  {
   "cell_type": "code",
   "execution_count": 4,
   "metadata": {},
   "outputs": [],
   "source": [
    "#data science stuff\n",
    "import numpy as np\n",
    "import pandas as pd\n",
    "import configparser\n",
    "config = configparser.ConfigParser()\n",
    "config.read('config.INI')\n",
    "\n",
    "import matplotlib.pyplot as plt\n",
    "%matplotlib inline\n",
    "plt.style.use('fivethirtyeight')\n",
    "\n",
    "#requests\n",
    "import requests"
   ]
  },
  {
   "cell_type": "markdown",
   "metadata": {},
   "source": [
    "Sources of help:\n",
    "https://pandas.pydata.org/pandas-docs/stable/generated/pandas.DataFrame.empty.html"
   ]
  },
  {
   "cell_type": "code",
   "execution_count": 5,
   "metadata": {},
   "outputs": [],
   "source": [
    "# Function: createLeaderboard\n",
    "# Return a leaderboard which contains the map_id and an empty df for the scores.\n",
    "# params: map_id - used to identify the leaderboard from others\n",
    "# return: see description\n",
    "def createLeaderboard(map_id, is_team_tourney):\n",
    "    if is_team_tourney == True:\n",
    "        scores_headers = ['#', 'Player', 'Team', 'Rank', 'Score', 'Combo', 'Accuracy', 'Mods', 'Mod2', 'Match']\n",
    "    else:\n",
    "        scores_headers = ['#', 'Player', 'Rank', 'Score', 'Combo', 'Accuracy', 'Mods', 'Mod2', 'Match']\n",
    "    leaderboard = {\n",
    "        \"map_id\": map_id, #unecessary? TODO\n",
    "        \"scores\": pd.DataFrame(columns = scores_headers)\n",
    "    }\n",
    "    \n",
    "    return leaderboard\n",
    "    "
   ]
  },
  {
   "cell_type": "code",
   "execution_count": 9,
   "metadata": {},
   "outputs": [
    {
     "data": {
      "text/html": [
       "<div>\n",
       "<style scoped>\n",
       "    .dataframe tbody tr th:only-of-type {\n",
       "        vertical-align: middle;\n",
       "    }\n",
       "\n",
       "    .dataframe tbody tr th {\n",
       "        vertical-align: top;\n",
       "    }\n",
       "\n",
       "    .dataframe thead th {\n",
       "        text-align: right;\n",
       "    }\n",
       "</style>\n",
       "<table border=\"1\" class=\"dataframe\">\n",
       "  <thead>\n",
       "    <tr style=\"text-align: right;\">\n",
       "      <th></th>\n",
       "      <th>#</th>\n",
       "      <th>Player</th>\n",
       "      <th>Team</th>\n",
       "      <th>Rank</th>\n",
       "      <th>Score</th>\n",
       "      <th>Combo</th>\n",
       "      <th>Accuracy</th>\n",
       "      <th>Mod1</th>\n",
       "      <th>Mod2</th>\n",
       "      <th>Match</th>\n",
       "    </tr>\n",
       "  </thead>\n",
       "  <tbody>\n",
       "  </tbody>\n",
       "</table>\n",
       "</div>"
      ],
      "text/plain": [
       "Empty DataFrame\n",
       "Columns: [#, Player, Team, Rank, Score, Combo, Accuracy, Mod1, Mod2, Match]\n",
       "Index: []"
      ]
     },
     "execution_count": 9,
     "metadata": {},
     "output_type": "execute_result"
    }
   ],
   "source": [
    "createLeaderboard('78049', True)['scores']"
   ]
  },
  {
   "cell_type": "code",
   "execution_count": null,
   "metadata": {},
   "outputs": [],
   "source": []
  }
 ],
 "metadata": {
  "kernelspec": {
   "display_name": "Python 3",
   "language": "python",
   "name": "python3"
  },
  "language_info": {
   "codemirror_mode": {
    "name": "ipython",
    "version": 3
   },
   "file_extension": ".py",
   "mimetype": "text/x-python",
   "name": "python",
   "nbconvert_exporter": "python",
   "pygments_lexer": "ipython3",
   "version": "3.7.1"
  }
 },
 "nbformat": 4,
 "nbformat_minor": 2
}
