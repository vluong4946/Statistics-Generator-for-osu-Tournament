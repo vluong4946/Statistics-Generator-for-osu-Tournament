{
 "cells": [
  {
   "cell_type": "code",
   "execution_count": 45,
   "metadata": {},
   "outputs": [],
   "source": [
    "#data science stuff\n",
    "import numpy as np\n",
    "import pandas as pd\n",
    "import configparser\n",
    "config = configparser.ConfigParser()\n",
    "config.read('config.INI')\n",
    "\n",
    "import matplotlib.pyplot as plt\n",
    "%matplotlib inline\n",
    "plt.style.use('fivethirtyeight')\n",
    "\n",
    "#requests\n",
    "import requests"
   ]
  },
  {
   "cell_type": "markdown",
   "metadata": {},
   "source": [
    "Sources of help:\n",
    "https://pandas.pydata.org/pandas-docs/stable/generated/pandas.DataFrame.empty.html"
   ]
  },
  {
   "cell_type": "code",
   "execution_count": 48,
   "metadata": {},
   "outputs": [],
   "source": [
    "# Function: createLeaderboard\n",
    "# Return a leaderboard which contains the map_id, an empty df for the scores,\n",
    "# and zeroed out any fields to be used later\n",
    "# params: map_id - used to identify the leaderboard from others\n",
    "# return: see description\n",
    "def createLeaderboard(map_id, is_team_tourney):\n",
    "    scores_headers = 0\n",
    "    if is_team_tourney == True:\n",
    "        scores_headers = ['#', 'Player', 'Team', 'Rank', 'Score', 'Combo', 'Acc', 'Mods']\n",
    "    else:\n",
    "        scores_headers = ['#', 'Player', 'Rank', 'Score', 'Combo', 'Acc', 'Mods']\n",
    "    leaderboard = {\n",
    "        \"map_id\": map_id,\n",
    "        \"scores\": pd.DataFrame(columns = scores_headers)\n",
    "    }\n",
    "    \n",
    "    return leaderboard\n",
    "    "
   ]
  },
  {
   "cell_type": "code",
   "execution_count": null,
   "metadata": {},
   "outputs": [],
   "source": []
  },
  {
   "cell_type": "code",
   "execution_count": null,
   "metadata": {},
   "outputs": [],
   "source": []
  }
 ],
 "metadata": {
  "kernelspec": {
   "display_name": "Python 3",
   "language": "python",
   "name": "python3"
  },
  "language_info": {
   "codemirror_mode": {
    "name": "ipython",
    "version": 3
   },
   "file_extension": ".py",
   "mimetype": "text/x-python",
   "name": "python",
   "nbconvert_exporter": "python",
   "pygments_lexer": "ipython3",
   "version": "3.7.1"
  }
 },
 "nbformat": 4,
 "nbformat_minor": 2
}
