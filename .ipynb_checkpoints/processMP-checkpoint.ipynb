{
 "cells": [
  {
   "cell_type": "code",
   "execution_count": 8,
   "metadata": {},
   "outputs": [],
   "source": [
    "#data science stuff\n",
    "import numpy as np\n",
    "import pandas as pd\n",
    "import configparser\n",
    "config = configparser.ConfigParser()\n",
    "config.read('config.INI')\n",
    "\n",
    "import matplotlib.pyplot as plt\n",
    "%matplotlib inline\n",
    "plt.style.use('fivethirtyeight')\n",
    "\n",
    "#requests\n",
    "import requests"
   ]
  },
  {
   "cell_type": "markdown",
   "metadata": {},
   "source": [
    "Sources of help:\n"
   ]
  },
  {
   "cell_type": "code",
   "execution_count": 11,
   "metadata": {},
   "outputs": [
    {
     "ename": "SyntaxError",
     "evalue": "unexpected EOF while parsing (<ipython-input-11-bef9872e80cd>, line 61)",
     "output_type": "error",
     "traceback": [
      "\u001b[1;36m  File \u001b[1;32m\"<ipython-input-11-bef9872e80cd>\"\u001b[1;36m, line \u001b[1;32m61\u001b[0m\n\u001b[1;33m    \u001b[0m\n\u001b[1;37m    ^\u001b[0m\n\u001b[1;31mSyntaxError\u001b[0m\u001b[1;31m:\u001b[0m unexpected EOF while parsing\n"
     ]
    }
   ],
   "source": [
    "# Function: processMP\n",
    "# Processes the match corresponding to the mp_id passed in, and updates the\n",
    "# stage leaderboards and the map count params passed in. \n",
    "# params: map_id - the id of the match we wish to process\n",
    "#         leaderboards_in_stage - leaderboards that will be updated\n",
    "#         map_counts_in_stage - dict of the times each map in the stage was played\n",
    "# return: void\n",
    "def processMP(mp_id, leaderboards_in_stage, map_counts_in_stage, \n",
    "              is_team_tourney, teams, scoring_type):\n",
    "    #get_match api get request\n",
    "    api_key = config.get('osu_api', 'api_key')\n",
    "    url = config.get('osu_api', 'get_match_url')\n",
    "    params = {\n",
    "        'k': api_key,\n",
    "        'mp': mp_id\n",
    "    }\n",
    "    response = requests.get(url, params).json()\n",
    "    \n",
    "    games = response['games']\n",
    "    #iterate through the maps\n",
    "    for i in np.arange(len(games)):\n",
    "        #error checking\n",
    "        #wrong scoring type\n",
    "        if games[i]['scoring_type'] != scoring_type:\n",
    "            continue\n",
    "        #no scores were recorded\n",
    "        elif len(games[i]['scores']) == 0:\n",
    "            continue\n",
    "        #map played isn't in the pool of the current stage\n",
    "        elif games[i]['beatmap_id'] not in map_counts_in_stage:\n",
    "            continue\n",
    "        \n",
    "        #Update map_counts_in_stage\n",
    "        map_counts_in_stage[games[i]['beatmap_id']] += 1\n",
    "        \n",
    "        #---Insert new entries into leaderboard---\n",
    "        #iterate through the 'scores' array\n",
    "        for j in games[i]['scores']:\n",
    "            current_player = games[i]['scores'][j]\n",
    "            #get player name\n",
    "            api_key = config.get('osu_api', 'api_key')\n",
    "            url = config.get('osu_api', 'get_user_url')\n",
    "            params = {\n",
    "                'k': api_key,\n",
    "                'u': current_player['user_id'],\n",
    "                'm': games[i]['play_mode'],\n",
    "                'type': 'id'\n",
    "            }\n",
    "            response = requests.get(url, params).json()\n",
    "            username = response['username']\n",
    "\n",
    "            if is_team_tourney == True:\n",
    "                new_row = [\n",
    "                    len(leaderboards_in_stage.index) + 1, \n",
    "                    username,\n",
    "                    getTeam(teams, username),\n",
    "                    calculateRank(BLAH),\n",
    "                    'score',\n",
    "                    'combo',\n",
    "                    calculateAcc(BLAH),\n",
    "                    'mods = the matchs mods',\n",
    "                    'mp id'\n",
    "                ]\n",
    "            else:\n",
    "            \n",
    "        #leaderboards_in_stage[games[i]['beatmap_id']]['scores']\n",
    "    \n",
    "\n",
    "\n",
    "    "
   ]
  },
  {
   "cell_type": "code",
   "execution_count": 4,
   "metadata": {},
   "outputs": [],
   "source": [
    "#get the team name corresponding to the player entered\n",
    "def getTeam(teams, username):\n",
    "    max_players_per_team = len(teams.columns) - 1\n",
    "    team_row = []\n",
    "    team_name = \"\"\n",
    "    #Search for the player in Player1 to PlayerX columns\n",
    "    for i in np.arange(max_players_per_team):\n",
    "        team_row = teams.loc[\n",
    "            teams['Player' + str(i+1)].str.contains(username, case=False)\n",
    "        ]\n",
    "        #found the player\n",
    "        if len(team_row.index) == 1:\n",
    "            team_row = team_row.reset_index(drop=True)\n",
    "            team_name = team_row['Team'][0]\n",
    "            break\n",
    "    return team_name"
   ]
  },
  {
   "cell_type": "code",
   "execution_count": 7,
   "metadata": {},
   "outputs": [
    {
     "data": {
      "text/plain": [
       "'Kyroh'"
      ]
     },
     "execution_count": 7,
     "metadata": {},
     "output_type": "execute_result"
    }
   ],
   "source": [
    "def calculateRank(performance):\n",
    "    "
   ]
  },
  {
   "cell_type": "code",
   "execution_count": null,
   "metadata": {},
   "outputs": [],
   "source": []
  }
 ],
 "metadata": {
  "kernelspec": {
   "display_name": "Python 3",
   "language": "python",
   "name": "python3"
  },
  "language_info": {
   "codemirror_mode": {
    "name": "ipython",
    "version": 3
   },
   "file_extension": ".py",
   "mimetype": "text/x-python",
   "name": "python",
   "nbconvert_exporter": "python",
   "pygments_lexer": "ipython3",
   "version": "3.7.1"
  }
 },
 "nbformat": 4,
 "nbformat_minor": 2
}
