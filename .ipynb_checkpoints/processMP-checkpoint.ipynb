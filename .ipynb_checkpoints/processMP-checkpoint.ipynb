{
 "cells": [
  {
   "cell_type": "code",
   "execution_count": 88,
   "metadata": {},
   "outputs": [],
   "source": [
    "#data science stuff\n",
    "import numpy as np\n",
    "import pandas as pd\n",
    "import configparser\n",
    "config = configparser.ConfigParser()\n",
    "config.read('config.INI')\n",
    "\n",
    "import matplotlib.pyplot as plt\n",
    "%matplotlib inline\n",
    "plt.style.use('fivethirtyeight')\n",
    "\n",
    "%run readTeams.ipynb\n",
    "%run osuApiRequests.ipynb\n",
    "\n",
    "#requests\n",
    "import requests"
   ]
  },
  {
   "cell_type": "markdown",
   "metadata": {},
   "source": [
    "Sources of help:\n",
    "https://davidhamann.de/2017/06/26/pandas-select-elements-by-string/"
   ]
  },
  {
   "cell_type": "code",
   "execution_count": 3,
   "metadata": {},
   "outputs": [],
   "source": [
    "# Function: processMP\n",
    "# Processes the match corresponding to the mp_id passed in by: updating the\n",
    "# stage leaderboards, the map counts dict, and the team info\n",
    "# TODO: optimize username stuff\n",
    "# params: map_id - the id of the match we wish to process\n",
    "#         leaderboards_in_stage - leaderboards that will be updated\n",
    "#         map_counts_in_stage - dict of the times each map in the stage was played\n",
    "#         map_mods - two col df; 1st col is map_id, 2nd col is mod type\n",
    "# return: void\n",
    "def processMP(mp, leaderboards_in_stage, maps_info, is_team_tourney, \n",
    "              teams, desired_scoring_type, mods_for_each_map, userId_to_username):\n",
    "\n",
    "    get_match_response = get_match(mp)\n",
    "    \n",
    "    games = get_match_response['games']\n",
    "    #---iterate through the maps played in games---\n",
    "    #track team wins to use for error checking later\n",
    "    blue_wins = 0\n",
    "    red_wins = 0\n",
    "    for i in np.arange(len(games)):\n",
    "        #print(\"i: \" + str(i))\n",
    "        #---Error checking---\n",
    "        #wrong scoring type\n",
    "        if games[i]['scoring_type'] != desired_scoring_type:\n",
    "            print('     1st err: ' + desired_scoring_type + \" \" + mp)\n",
    "            continue\n",
    "        #no scores were recorded\n",
    "        elif len(games[i]['scores']) == 0:\n",
    "            print('     2nd err')\n",
    "            continue\n",
    "        #map played isn't in the pool of the current stage\n",
    "        elif games[i]['beatmap_id'] not in maps_info:\n",
    "            print('     3rd err')\n",
    "            continue\n",
    "        #map's mods are not in the list of playable mods\n",
    "        elif games[i]['mods'] not in list(mods_for_each_map.values()):\n",
    "            print('     4th err')\n",
    "            continue\n",
    "        \n",
    "        #---Update maps_info picked field---\n",
    "        maps_info[games[i]['beatmap_id']]['picked'] += 1\n",
    "        \n",
    "        #---Parse the scores array and create a new row for each score---\n",
    "        blue_score = 0\n",
    "        red_score = 0\n",
    "        for j in np.arange(len(games[i]['scores'])):\n",
    "            #print(\"   j: \" + str(j))\n",
    "            current_player = games[i]['scores'][j]\n",
    "            \n",
    "            #error check for referee\n",
    "            if current_player['score'] == '0':\n",
    "                continue\n",
    "            \n",
    "            #add player's score to team score to determine who won the map\n",
    "            #(NOT USED YET)\n",
    "            \"\"\"\n",
    "            if is_team_tourney == True: \n",
    "                if current_player['team'] == \"1\":\n",
    "                    blue_score += int(current_player['score'])\n",
    "                elif current_player['team'] == \"2\":\n",
    "                    red_score += int(current_player['score'])\n",
    "            \"\"\"\n",
    "\n",
    "            #---Get username of player---\n",
    "            if current_player['user_id'] not in userId_to_username:\n",
    "                get_user_response = \\\n",
    "                    get_user(current_player['user_id'], games[i]['play_mode'], 'id')\n",
    "                if len(get_user_response) == 0:\n",
    "                    continue\n",
    "                username = get_user_response[0]['username']\n",
    "                userId_to_username[current_player['user_id']] = username\n",
    "            else:\n",
    "                username = userId_to_username[current_player['user_id']]\n",
    "            #print(username)\n",
    "            \n",
    "            \n",
    "            #determine mod used by using the mp_ids sheet because the osu api\n",
    "            #isn't very informative on this. Does not support FM, however\n",
    "            mod_id = mods_for_each_map[games[i]['beatmap_id']]\n",
    "            \n",
    "            #create row to be inserted into leaderboard\n",
    "            new_row = {\n",
    "                #'#': len(leaderboards_in_stage[games[i]['beatmap_id']]['scores'].index) + 1, \n",
    "                '#': '=ROW() - 6',\n",
    "                'Team': getTeam(teams, username),\n",
    "                'Player': username,\n",
    "                'Rank': calculateRank(current_player, games[i]['beatmap_id'], maps_info),\n",
    "                'Score': int(current_player['score']),\n",
    "                'Combo': int(current_player['maxcombo']),\n",
    "                'Accuracy': calculateAcc(current_player),\n",
    "                'Mods': getModName(mod_id),\n",
    "                'Match': 'https://osu.ppy.sh/community/matches/' + mp_id\n",
    "            }\n",
    "            if is_team_tourney == False:\n",
    "                new_row.pop('Team')\n",
    "            \n",
    "            \n",
    "            #print(new_row)\n",
    "            #print(games[i]['beatmap_id'])\n",
    "            leaderboards_in_stage[games[i]['beatmap_id']]['scores'] = leaderboards_in_stage[games[i]['beatmap_id']]['scores'].append(new_row, ignore_index = True)\n",
    "            #print('fuck??')\n",
    "            #print(leaderboards_in_stage[ games[i]['beatmap_id'] ]['scores'])\n",
    "\n",
    "        \n",
    "            "
   ]
  },
  {
   "cell_type": "code",
   "execution_count": 2,
   "metadata": {},
   "outputs": [
    {
     "data": {
      "text/plain": [
       "True"
      ]
     },
     "execution_count": 2,
     "metadata": {},
     "output_type": "execute_result"
    }
   ],
   "source": [
    "ree = {}\n",
    "strn = '555'\n",
    "strn not in ree"
   ]
  },
  {
   "cell_type": "code",
   "execution_count": 149,
   "metadata": {},
   "outputs": [],
   "source": [
    "#calculate acc of player to two decimal places\n",
    "def calculateAcc(player):\n",
    "    #convert player's counts to int for calculations\n",
    "    count50 = int(player['count50'])\n",
    "    count100 = int(player['count100'])\n",
    "    count300 = int(player['count300'])\n",
    "    countmiss = int(player['countmiss'])\n",
    "\n",
    "    #calculate accuracy\n",
    "    player_total_objects = count50 + \\\n",
    "                    count100 + \\\n",
    "                    count300 + \\\n",
    "                    countmiss\n",
    "    acc = (50*count50 + 100*count100 + 300*count300) \\\n",
    "            / (300*player_total_objects)\n",
    "    acc = round(acc, 4)\n",
    "    return acc"
   ]
  },
  {
   "cell_type": "code",
   "execution_count": 137,
   "metadata": {},
   "outputs": [],
   "source": [
    "#TODO\n",
    "def calculateRank(player, map_id, maps_info):\n",
    "    \n",
    "    #---Determine if player finished map---\n",
    "    #convert player's counts to int for calculations\n",
    "    count50 = int(player['count50'])\n",
    "    count100 = int(player['count100'])\n",
    "    count300 = int(player['count300'])\n",
    "    countmiss = int(player['countmiss'])\n",
    "    #player's total object count used to compare to map's and calculate rank\n",
    "    player_total_objects = count50 + \\\n",
    "                    count100 + \\\n",
    "                    count300 + \\\n",
    "                    countmiss\n",
    "    \n",
    "    #set unfinished flag\n",
    "    unfinished_flag = True if player_total_objects != maps_info[map_id]['obj count'] else False\n",
    "    \n",
    "    #---Determine grade---\n",
    "    #F case \n",
    "    if player['pass'] == '0':\n",
    "        return 'F' if (unfinished_flag == False) else 'F (U)'\n",
    "    \n",
    "    prop_300s = count300 / player_total_objects\n",
    "    #SS case\n",
    "    if prop_300s == 1:\n",
    "        return 'SS' if unfinished_flag == False else 'SS (U)'\n",
    "    \n",
    "    prop_50s = count50 / player_total_objects\n",
    "    no_misses = True if countmiss == 0 else False\n",
    "    #S case\n",
    "    if (prop_300s > 0.90) & (prop_50s < 0.01) & no_misses:\n",
    "        return 'S' if unfinished_flag == False else 'S (U)'\n",
    "\n",
    "    #A-D cases\n",
    "    if ((prop_300s > 0.80) & no_misses) | (prop_300s > 0.90):\n",
    "        return 'A' if unfinished_flag == False else 'A (U)'\n",
    "    if ((prop_300s > 0.70) & no_misses) | (prop_300s > 0.80):\n",
    "        return 'B' if unfinished_flag == False else 'B (U)'\n",
    "    if prop_300s > 0.60:\n",
    "        return 'C' if unfinished_flag == False else 'C (U)'\n",
    "    return 'D' if unfinished_flag == False else 'D (U)'"
   ]
  },
  {
   "cell_type": "code",
   "execution_count": 7,
   "metadata": {
    "scrolled": true
   },
   "outputs": [
    {
     "data": {
      "text/plain": [
       "''"
      ]
     },
     "execution_count": 7,
     "metadata": {},
     "output_type": "execute_result"
    }
   ],
   "source": [
    "#TODO\n",
    "def getModName(mod_id):\n",
    "    mod_str = \"\" #return value\n",
    "    mod_id = int(mod_id)\n",
    "    \n",
    "    mod_str += \"NF\" if mod_id & 1 != 0 else \"\"\n",
    "    mod_str += \"EZ\" if mod_id & 2 != 0 else \"\"\n",
    "    mod_str += \"HD\" if mod_id & 8 != 0 else \"\"\n",
    "    mod_str += \"HR\" if mod_id & 16 != 0 else \"\"\n",
    "    mod_str += \"SD\" if mod_id & 32 != 0 else \"\"\n",
    "    mod_str += \"DT\" if mod_id & 64 != 0 else \"\"\n",
    "    mod_str += \"HT\" if mod_id & 256 != 0 else \"\"\n",
    "    mod_str += \"FL\" if mod_id & 1024 != 0 else \"\"\n",
    "    mod_str += \"SO\" if mod_id & 4096 != 0 else \"\"\n",
    "    \n",
    "    return mod_str\n"
   ]
  },
  {
   "cell_type": "code",
   "execution_count": 135,
   "metadata": {},
   "outputs": [],
   "source": []
  },
  {
   "cell_type": "code",
   "execution_count": 136,
   "metadata": {},
   "outputs": [],
   "source": []
  },
  {
   "cell_type": "code",
   "execution_count": null,
   "metadata": {},
   "outputs": [],
   "source": []
  }
 ],
 "metadata": {
  "kernelspec": {
   "display_name": "Python 3",
   "language": "python",
   "name": "python3"
  },
  "language_info": {
   "codemirror_mode": {
    "name": "ipython",
    "version": 3
   },
   "file_extension": ".py",
   "mimetype": "text/x-python",
   "name": "python",
   "nbconvert_exporter": "python",
   "pygments_lexer": "ipython3",
   "version": "3.7.1"
  }
 },
 "nbformat": 4,
 "nbformat_minor": 2
}
