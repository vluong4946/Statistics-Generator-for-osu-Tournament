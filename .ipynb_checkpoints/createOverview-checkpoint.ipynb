{
 "cells": [
  {
   "cell_type": "code",
   "execution_count": 2,
   "metadata": {},
   "outputs": [
    {
     "name": "stdout",
     "output_type": "stream",
     "text": [
      "google sheets authentication success\n",
      "dab\n"
     ]
    }
   ],
   "source": [
    "#data science stuff\n",
    "import numpy as np\n",
    "import pandas as pd\n",
    "import pprint\n",
    "import configparser\n",
    "config = configparser.ConfigParser()\n",
    "config.read('config.INI')\n",
    "import time\n",
    "import math\n",
    "\n",
    "%run osuApiRequests.ipynb\n",
    "%run readBans.ipynb\n",
    "\n",
    "#requests\n",
    "import requests\n",
    "print(\"dab\")"
   ]
  },
  {
   "cell_type": "code",
   "execution_count": 4,
   "metadata": {},
   "outputs": [],
   "source": [
    "#return a df of overall statistics\n",
    "def createOverview(bans, team_size, leaderboards_in_stage, maps_info, mods_for_each_map, num_matches, leaderboard_spreadsheetId):\n",
    "    \n",
    "    #---loop through each map and add the necessary info---\n",
    "    overview = pd.DataFrame(columns=['Map', 'Picks', 'Bans', 'Total %', 'Average\\nScore', 'Average\\nAccuracy'])\n",
    "    row_num = 2 #the row where appending starts\n",
    "    for map_id in maps_info:\n",
    "        \n",
    "        #Get artist and name\n",
    "        map_artist_and_diff = \"%s - %s [%s]\" % (maps_info[map_id]['artist'], maps_info[map_id]['name'], maps_info[map_id]['diff name'])\n",
    "        \n",
    "        #Get pick count\n",
    "        #pick_count = \"=CEILING(COUNT(IMPORTRANGE(\\\"https://docs.google.com/spreadsheets/d/%s\\\", \\\"%s!E8:E1000\\\")) / %d)\" \\\n",
    "        #                % (leaderboard_spreadsheetId, maps_info[map_id]['name'], team_size * 2) \n",
    "        pick_count = \"=COUNTUNIQUE(IMPORTRANGE(\\\"https://docs.google.com/spreadsheets/d/%s\\\", \\\"%s!J8:J1000\\\"))\" \\\n",
    "                        % (leaderboard_spreadsheetId, maps_info[map_id]['name'])\n",
    "        \n",
    "        #Get ban count on each map\n",
    "        ban_count = 0\n",
    "        map_row = []\n",
    "        map_row = bans.loc[\n",
    "            bans['Map'].str.contains(map_id, case=False)\n",
    "        ]\n",
    "        if len(map_row.index) == 1:\n",
    "            map_row = map_row.reset_index(drop=True)\n",
    "            ban_count = int(map_row['Ban Count'][0])\n",
    "        \n",
    "        #Calculate total participation rate\n",
    "        participation_rate = \"=(INDIRECT(\\\"R[0]C[-2]\\\", FALSE) + INDIRECT(\\\"R[0]C[-1]\\\", FALSE)) / %d\" \\\n",
    "                                % (num_matches)\n",
    "        maps_info[map_id]['participation rate'] = participation_rate\n",
    "        \n",
    "        #Get avg score, avg acc\n",
    "        avg_score = \"=ROUND(AVERAGE(IMPORTRANGE(\\\"https://docs.google.com/spreadsheets/d/%s\\\", \\\"%s!E8:E1000\\\")), 0)\" \\\n",
    "                        % (leaderboard_spreadsheetId, maps_info[map_id]['name']) \n",
    "        avg_acc = \"=ROUND(AVERAGE(IMPORTRANGE(\\\"https://docs.google.com/spreadsheets/d/%s\\\", \\\"%s!G8:G1000\\\")), 4)\" \\\n",
    "                        % (leaderboard_spreadsheetId, maps_info[map_id]['name']) \n",
    "        #avg_score = round(leaderboards_in_stage[map_id]['scores']['Score'].mean(), 0)\n",
    "        #avg_acc = round(leaderboards_in_stage[map_id]['scores']['Accuracy'].mean(), 2)\n",
    "        maps_info[map_id]['avg_score'] = avg_score\n",
    "        maps_info[map_id]['avg_acc'] = avg_acc\n",
    "        \n",
    "        \n",
    "        #Append new row to overview df\n",
    "        overview = overview.append({\n",
    "            'Map': map_artist_and_diff,\n",
    "            'Picks': pick_count,\n",
    "            'Bans': ban_count,\n",
    "            'Total %': participation_rate,\n",
    "            'Average\\nScore': avg_score,\n",
    "            'Average\\nAccuracy': avg_acc\n",
    "        }, ignore_index=True)\n",
    "        \n",
    "        row_num += 1\n",
    "        \n",
    "    return overview"
   ]
  },
  {
   "cell_type": "code",
   "execution_count": null,
   "metadata": {},
   "outputs": [],
   "source": [
    "#(deprecated) get ban count on each map\n",
    "\"\"\"\n",
    "map_row = []\n",
    "map_row = bans.loc[\n",
    "    bans['Map'].str.contains(map_id, case=False)\n",
    "]\n",
    "if len(map_row.index) == 1:\n",
    "    map_row = map_row.reset_index(drop=True)\n",
    "    ban_count = int(map_row['Ban Count'][0])\n",
    "maps_info[map_id]['ban count'] = ban_count\n",
    "\"\"\""
   ]
  },
  {
   "cell_type": "code",
   "execution_count": 1,
   "metadata": {},
   "outputs": [],
   "source": [
    "#return df of best scores\n",
    "def createBestPlays(maps_info, leaderboard_spreadsheetId):\n",
    "    bestPlays = pd.DataFrame(columns=['Map', 'Best Score'])\n",
    "    for map_id in maps_info:\n",
    "        map_artist_and_diff = \"%s - %s [%s]\" % (maps_info[map_id]['artist'], maps_info[map_id]['name'], maps_info[map_id]['diff name'])\n",
    "        best_score = \"=IMPORTRANGE(\\\"https://docs.google.com/spreadsheets/d/%s\\\", \\\"%s!B8:J8\\\")\" \\\n",
    "                    % (leaderboard_spreadsheetId, maps_info[map_id]['name'])\n",
    "        bestPlays = bestPlays.append({\n",
    "            'Map': map_artist_and_diff,\n",
    "            'Best Score': best_score\n",
    "        }, ignore_index=True)\n",
    "    return bestPlays"
   ]
  },
  {
   "cell_type": "code",
   "execution_count": null,
   "metadata": {},
   "outputs": [],
   "source": []
  }
 ],
 "metadata": {
  "kernelspec": {
   "display_name": "Python 3",
   "language": "python",
   "name": "python3"
  },
  "language_info": {
   "codemirror_mode": {
    "name": "ipython",
    "version": 3
   },
   "file_extension": ".py",
   "mimetype": "text/x-python",
   "name": "python",
   "nbconvert_exporter": "python",
   "pygments_lexer": "ipython3",
   "version": "3.7.1"
  }
 },
 "nbformat": 4,
 "nbformat_minor": 2
}
