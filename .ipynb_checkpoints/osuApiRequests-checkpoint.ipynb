{
 "cells": [
  {
   "cell_type": "code",
   "execution_count": 9,
   "metadata": {},
   "outputs": [],
   "source": [
    "import configparser\n",
    "config = configparser.ConfigParser()\n",
    "config.read('config.INI')\n",
    "\n",
    "#requests\n",
    "import requests"
   ]
  },
  {
   "cell_type": "code",
   "execution_count": 10,
   "metadata": {},
   "outputs": [],
   "source": [
    "def get_match(mp):\n",
    "    api_key = config.get('osu_api', 'api_key')\n",
    "    url = config.get('osu_api', 'get_match_url')\n",
    "    params = {\n",
    "        'k': api_key,\n",
    "        'mp': mp\n",
    "    }\n",
    "    response = requests.get(url, params).json()\n",
    "    return response"
   ]
  },
  {
   "cell_type": "code",
   "execution_count": 11,
   "metadata": {},
   "outputs": [],
   "source": [
    "#certain optional params are excluded\n",
    "def get_scores(b, m, limit):\n",
    "    api_key = config.get('osu_api', 'api_key')\n",
    "    url = config.get('osu_api', 'get_scores_url')\n",
    "    params = {\n",
    "        'k': api_key,\n",
    "        'b': b,\n",
    "        'm': m,\n",
    "        'limit': limit\n",
    "    }\n",
    "    response = requests.get(url, params).json()\n",
    "    return response"
   ]
  },
  {
   "cell_type": "code",
   "execution_count": 12,
   "metadata": {},
   "outputs": [],
   "source": [
    "def get_user(u, m, id_type):\n",
    "    api_key = config.get('osu_api', 'api_key')\n",
    "    url = config.get('osu_api', 'get_user_url')\n",
    "    params = {\n",
    "        'k': api_key,\n",
    "        'u': u,\n",
    "        'm': m,\n",
    "        'type': id_type\n",
    "    }\n",
    "    response = requests.get(url, params).json()\n",
    "    return response"
   ]
  },
  {
   "cell_type": "code",
   "execution_count": null,
   "metadata": {},
   "outputs": [],
   "source": []
  }
 ],
 "metadata": {
  "kernelspec": {
   "display_name": "Python 3",
   "language": "python",
   "name": "python3"
  },
  "language_info": {
   "codemirror_mode": {
    "name": "ipython",
    "version": 3
   },
   "file_extension": ".py",
   "mimetype": "text/x-python",
   "name": "python",
   "nbconvert_exporter": "python",
   "pygments_lexer": "ipython3",
   "version": "3.7.1"
  }
 },
 "nbformat": 4,
 "nbformat_minor": 2
}
