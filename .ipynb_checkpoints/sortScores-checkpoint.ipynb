{
 "cells": [
  {
   "cell_type": "code",
   "execution_count": 1,
   "metadata": {},
   "outputs": [
    {
     "name": "stdout",
     "output_type": "stream",
     "text": [
      "dab\n"
     ]
    }
   ],
   "source": [
    "#data science stuff\n",
    "import numpy as np\n",
    "import pandas as pd\n",
    "import pprint\n",
    "\n",
    "print(\"dab\")"
   ]
  },
  {
   "cell_type": "markdown",
   "metadata": {},
   "source": [
    "Sources of help:\n",
    "https://stackoverflow.com/questions/18172851/deleting-dataframe-row-in-pandas-based-on-column-value\n",
    "https://stackoverflow.com/questions/15819050/pandas-dataframe-concat-vs-append"
   ]
  },
  {
   "cell_type": "code",
   "execution_count": null,
   "metadata": {},
   "outputs": [],
   "source": [
    "def sortScores(scores):\n",
    "    #sorted scores on the map\n",
    "    scores = scores.sort_values('Score', ascending=False)\n",
    "    \n",
    "    #extract failed and incomplete scores\n",
    "    failed = scores.loc[scores.Rank == 'F']\n",
    "    incomplete = scores.loc[scores.Rank.str.contains('(U)', regex=False)]\n",
    "    \n",
    "    #drop the failed and incomplete scores, then append to end of scores\n",
    "    scores = scores.drop(labels=failed.index.union(incomplete.index))\n",
    "    scores = pd.concat(objs=[scores, incomplete, failed])\n",
    "    \n",
    "    return scores\n"
   ]
  },
  {
   "cell_type": "code",
   "execution_count": null,
   "metadata": {},
   "outputs": [],
   "source": []
  }
 ],
 "metadata": {
  "kernelspec": {
   "display_name": "Python 3",
   "language": "python",
   "name": "python3"
  },
  "language_info": {
   "codemirror_mode": {
    "name": "ipython",
    "version": 3
   },
   "file_extension": ".py",
   "mimetype": "text/x-python",
   "name": "python",
   "nbconvert_exporter": "python",
   "pygments_lexer": "ipython3",
   "version": "3.7.1"
  }
 },
 "nbformat": 4,
 "nbformat_minor": 2
}
